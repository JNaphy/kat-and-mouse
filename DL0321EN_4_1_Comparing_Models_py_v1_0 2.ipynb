{
 "cells": [
  {
   "cell_type": "markdown",
   "metadata": {
    "button": false,
    "id": "_cblUW9C7vsW",
    "new_sheet": false,
    "run_control": {
     "read_only": false
    }
   },
   "source": [
    "<a href=\"https://cognitiveclass.ai\"><img src = \"https://s3-api.us-geo.objectstorage.softlayer.net/cf-courses-data/CognitiveClass/Logos/organization_logo/organization_logo.png\" width = 400> </a>\n",
    "\n",
    "<h1 align=center><font size = 5>Peer Review Final Assignment</font></h1>"
   ]
  },
  {
   "cell_type": "markdown",
   "metadata": {
    "button": false,
    "id": "Atlldbks7vsZ",
    "new_sheet": false,
    "run_control": {
     "read_only": false
    }
   },
   "source": [
    "## Introduction\n"
   ]
  },
  {
   "cell_type": "markdown",
   "metadata": {
    "button": false,
    "id": "wczgXvIA7vsa",
    "new_sheet": false,
    "run_control": {
     "read_only": false
    }
   },
   "source": [
    "In this lab, you will build an image classifier using the VGG16 pre-trained model, and you will evaluate it and compare its performance to the model we built in the last module using the ResNet50 pre-trained model. Good luck!"
   ]
  },
  {
   "cell_type": "markdown",
   "metadata": {
    "button": false,
    "id": "jwwboVeO7vsb",
    "new_sheet": false,
    "run_control": {
     "read_only": false
    }
   },
   "source": [
    "## Table of Contents\n",
    "\n",
    "<div class=\"alert alert-block alert-info\" style=\"margin-top: 20px\">\n",
    "\n",
    "<font size = 3>    \n",
    "\n",
    "1. <a href=\"#item41\">Download Data \n",
    "2. <a href=\"#item42\">Part 1</a>\n",
    "3. <a href=\"#item43\">Part 2</a>  \n",
    "4. <a href=\"#item44\">Part 3</a>  \n",
    "\n",
    "</font>\n",
    "    \n",
    "</div>"
   ]
  },
  {
   "cell_type": "markdown",
   "metadata": {
    "button": false,
    "id": "PnX4ws4Q7vsb",
    "new_sheet": false,
    "run_control": {
     "read_only": false
    }
   },
   "source": [
    "   "
   ]
  },
  {
   "cell_type": "markdown",
   "metadata": {
    "id": "nN0LQaQx7vsc"
   },
   "source": [
    "<a id=\"item41\"></a>"
   ]
  },
  {
   "cell_type": "markdown",
   "metadata": {
    "id": "lcTa_bXG7vsc"
   },
   "source": [
    "## Download Data"
   ]
  },
  {
   "cell_type": "markdown",
   "metadata": {
    "id": "Q5JVVUeF7vsd"
   },
   "source": [
    "\n",
    "\n",
    "```\n",
    "# This is formatted as code\n",
    "```\n",
    "\n",
    "Use the <code>wget</code> command to download the data for this assignment from here: https://s3-api.us-geo.objectstorage.softlayer.net/cf-courses-data/CognitiveClass/DL0321EN/data/concrete_data_week4.zip"
   ]
  },
  {
   "cell_type": "markdown",
   "metadata": {
    "id": "SSS4xu087vse"
   },
   "source": [
    "Use the following cells to download the data."
   ]
  },
  {
   "cell_type": "code",
   "execution_count": 2,
   "metadata": {
    "colab": {
     "base_uri": "https://localhost:8080/"
    },
    "id": "dTEVpu9r7vse",
    "outputId": "4415ac5b-818b-44bd-a00d-27b0d5313cae"
   },
   "outputs": [
    {
     "name": "stdout",
     "output_type": "stream",
     "text": [
      "--2023-03-28 03:11:24--  https://s3-api.us-geo.objectstorage.softlayer.net/cf-courses-data/CognitiveClass/DL0321EN/data/concrete_data_week4.zip\n",
      "Resolving s3-api.us-geo.objectstorage.softlayer.net (s3-api.us-geo.objectstorage.softlayer.net)... 67.228.254.196\n",
      "Connecting to s3-api.us-geo.objectstorage.softlayer.net (s3-api.us-geo.objectstorage.softlayer.net)|67.228.254.196|:443... connected.\n",
      "HTTP request sent, awaiting response... 200 OK\n",
      "Length: 261483817 (249M) [application/zip]\n",
      "Saving to: ‘concrete_data_week4.zip’\n",
      "\n",
      "concrete_data_week4 100%[===================>] 249.37M  29.0MB/s    in 9.2s    \n",
      "\n",
      "2023-03-28 03:11:34 (27.0 MB/s) - ‘concrete_data_week4.zip’ saved [261483817/261483817]\n",
      "\n"
     ]
    }
   ],
   "source": [
    "!wget https://s3-api.us-geo.objectstorage.softlayer.net/cf-courses-data/CognitiveClass/DL0321EN/data/concrete_data_week4.zip"
   ]
  },
  {
   "cell_type": "code",
   "execution_count": 3,
   "metadata": {
    "id": "h-DTMlqT-r56"
   },
   "outputs": [],
   "source": [
    "import zipfile\n",
    "with zipfile.ZipFile('/content/concrete_data_week4.zip', 'r') as zip_ref:\n",
    "    zip_ref.extractall('/content/')"
   ]
  },
  {
   "cell_type": "markdown",
   "metadata": {
    "id": "fqhFSsWQ7vsf"
   },
   "source": [
    "After you unzip the data, you fill find the data has already been divided into a train, validation, and test sets."
   ]
  },
  {
   "cell_type": "markdown",
   "metadata": {
    "id": "wCyW_Q6a7vsg"
   },
   "source": [
    "  "
   ]
  },
  {
   "cell_type": "markdown",
   "metadata": {
    "button": false,
    "id": "dlw1U__y7vsg",
    "new_sheet": false,
    "run_control": {
     "read_only": false
    }
   },
   "source": [
    "<a id=\"item42\"></a>"
   ]
  },
  {
   "cell_type": "markdown",
   "metadata": {
    "id": "IgqNH75T7vsg"
   },
   "source": [
    "## Part 1"
   ]
  },
  {
   "cell_type": "markdown",
   "metadata": {
    "id": "-gynF5zW7vsh"
   },
   "source": [
    "In this part, you will design a classifier using the VGG16 pre-trained model. Just like the ResNet50 model, you can import the model <code>VGG16</code> from <code>keras.applications</code>."
   ]
  },
  {
   "cell_type": "markdown",
   "metadata": {
    "id": "0JlCK2hu7vsh"
   },
   "source": [
    "You will essentially build your classifier as follows:\n",
    "1. Import libraries, modules, and packages you will need. Make sure to import the *preprocess_input* function from <code>keras.applications.vgg16</code>.\n",
    "2. Use a batch size of 100 images for both training and validation.\n",
    "3. Construct an ImageDataGenerator for the training set and another one for the validation set. VGG16 was originally trained on 224 × 224 images, so make sure to address that when defining the ImageDataGenerator instances.\n",
    "4. Create a sequential model using Keras. Add VGG16 model to it and dense layer.\n",
    "5. Compile the mode using the adam optimizer and the categorical_crossentropy loss function.\n",
    "6. Fit the model on the augmented data using the ImageDataGenerators."
   ]
  },
  {
   "cell_type": "markdown",
   "metadata": {
    "id": "anrF6vQu7vsh"
   },
   "source": [
    "Use the following cells to create your classifier."
   ]
  },
  {
   "cell_type": "code",
   "execution_count": 11,
   "metadata": {
    "id": "whosJwId7vsi"
   },
   "outputs": [],
   "source": [
    "import tensorflow\n",
    "from tensorflow import keras\n",
    "from tensorflow.keras.applications import VGG16\n",
    "from tensorflow.keras.applications.vgg16 import preprocess_input\n",
    "from tensorflow.keras.models import Sequential\n",
    "from tensorflow.keras.layers import Dense\n",
    "from tensorflow.keras.preprocessing.image import ImageDataGenerator"
   ]
  },
  {
   "cell_type": "code",
   "execution_count": 13,
   "metadata": {
    "id": "wtYm84s_7vsi"
   },
   "outputs": [],
   "source": [
    "num_classes = 2\n",
    "image_resize = 234\n",
    "batch_size_training = 100\n",
    "batch_size_validation = 100\n",
    "batch_size_evaluate = 100"
   ]
  },
  {
   "cell_type": "code",
   "execution_count": 6,
   "metadata": {
    "id": "P6GpLJnw7vsi",
    "scrolled": true
   },
   "outputs": [],
   "source": [
    "data_generator = ImageDataGenerator(\n",
    "    preprocessing_function=preprocess_input,\n",
    ")"
   ]
  },
  {
   "cell_type": "code",
   "execution_count": 7,
   "metadata": {
    "colab": {
     "base_uri": "https://localhost:8080/"
    },
    "id": "QIzoLjp17vsi",
    "outputId": "9e0fab8b-c91c-4bb3-ebbc-00b05b17d12f"
   },
   "outputs": [
    {
     "name": "stdout",
     "output_type": "stream",
     "text": [
      "Found 30001 images belonging to 2 classes.\n"
     ]
    }
   ],
   "source": [
    "train_generator = data_generator.flow_from_directory(\n",
    "    'concrete_data_week4/train',\n",
    "    target_size=(image_resize, image_resize),\n",
    "    batch_size=batch_size_training,\n",
    "    class_mode='categorical')"
   ]
  },
  {
   "cell_type": "code",
   "execution_count": 8,
   "metadata": {
    "colab": {
     "base_uri": "https://localhost:8080/"
    },
    "id": "VHvIviuP7vsi",
    "outputId": "eba0b6c1-5406-4c90-fc7b-97ed651650f5"
   },
   "outputs": [
    {
     "name": "stdout",
     "output_type": "stream",
     "text": [
      "Found 9501 images belonging to 2 classes.\n"
     ]
    }
   ],
   "source": [
    "validation_generator = data_generator.flow_from_directory(\n",
    "    'concrete_data_week4/valid',\n",
    "    target_size=(image_resize, image_resize),\n",
    "    batch_size=batch_size_validation,\n",
    "    class_mode='categorical')"
   ]
  },
  {
   "cell_type": "code",
   "execution_count": null,
   "metadata": {
    "id": "7RwmQWep7vsi"
   },
   "outputs": [],
   "source": [
    "model = Sequential()"
   ]
  },
  {
   "cell_type": "code",
   "execution_count": null,
   "metadata": {
    "colab": {
     "base_uri": "https://localhost:8080/"
    },
    "id": "Su3Tw3q27vsj",
    "outputId": "3fbdeebf-b5e6-4f4a-b217-512be4a5e3f3"
   },
   "outputs": [
    {
     "name": "stdout",
     "output_type": "stream",
     "text": [
      "Downloading data from https://storage.googleapis.com/tensorflow/keras-applications/vgg16/vgg16_weights_tf_dim_ordering_tf_kernels_notop.h5\n",
      "58889256/58889256 [==============================] - 0s 0us/step\n"
     ]
    }
   ],
   "source": [
    "model.add(VGG16(\n",
    "    include_top=False,\n",
    "    pooling='avg',\n",
    "    weights='imagenet',\n",
    "    ))"
   ]
  },
  {
   "cell_type": "code",
   "execution_count": null,
   "metadata": {
    "id": "TM24GJhj7vsj"
   },
   "outputs": [],
   "source": [
    "model.add(Dense(num_classes, activation='softmax'))"
   ]
  },
  {
   "cell_type": "code",
   "execution_count": null,
   "metadata": {
    "id": "5adg1JnqEAgr"
   },
   "outputs": [],
   "source": [
    "model.layers[0].trainable = False"
   ]
  },
  {
   "cell_type": "code",
   "execution_count": null,
   "metadata": {
    "id": "qs9K_Y6gEFHc"
   },
   "outputs": [],
   "source": [
    "model.compile(optimizer='adam', loss='categorical_crossentropy', metrics=['accuracy'])"
   ]
  },
  {
   "cell_type": "code",
   "execution_count": null,
   "metadata": {
    "id": "f7RAFYL2EItG"
   },
   "outputs": [],
   "source": [
    "steps_per_epoch_training = len(train_generator)\n",
    "steps_per_epoch_validation = len(validation_generator)\n",
    "num_epochs = 2"
   ]
  },
  {
   "cell_type": "code",
   "execution_count": null,
   "metadata": {
    "colab": {
     "base_uri": "https://localhost:8080/"
    },
    "id": "0H-_rnDF7vsj",
    "outputId": "965902e7-c3dd-440f-ded4-a173e148ae54"
   },
   "outputs": [
    {
     "name": "stderr",
     "output_type": "stream",
     "text": [
      "<ipython-input-16-172e67583a70>:1: UserWarning: `Model.fit_generator` is deprecated and will be removed in a future version. Please use `Model.fit`, which supports generators.\n",
      "  fit_history = model.fit_generator(\n"
     ]
    },
    {
     "name": "stdout",
     "output_type": "stream",
     "text": [
      "Epoch 1/2\n",
      "301/301 [==============================] - 238s 736ms/step - loss: 0.1390 - accuracy: 0.9491 - val_loss: 0.0318 - val_accuracy: 0.9939\n",
      "Epoch 2/2\n",
      "301/301 [==============================] - 220s 731ms/step - loss: 0.0257 - accuracy: 0.9947 - val_loss: 0.0194 - val_accuracy: 0.9958\n"
     ]
    }
   ],
   "source": [
    "fit_history = model.fit_generator(\n",
    "    train_generator,\n",
    "    steps_per_epoch=steps_per_epoch_training,\n",
    "    epochs=num_epochs,\n",
    "    validation_data=validation_generator,\n",
    "    validation_steps=steps_per_epoch_validation,\n",
    "    verbose=1,\n",
    ")"
   ]
  },
  {
   "cell_type": "code",
   "execution_count": null,
   "metadata": {
    "id": "V4cvfMfo7vsj"
   },
   "outputs": [],
   "source": [
    "model.save('classifier_vgg16_model.h5')"
   ]
  },
  {
   "cell_type": "markdown",
   "metadata": {
    "id": "3_p1Z6l-7vsj"
   },
   "source": [
    "   "
   ]
  },
  {
   "cell_type": "markdown",
   "metadata": {
    "id": "dabhRw-n7vsk"
   },
   "source": [
    "<a id=\"item43\"></a>"
   ]
  },
  {
   "cell_type": "markdown",
   "metadata": {
    "id": "HxO0LrBSE6N3"
   },
   "source": []
  },
  {
   "cell_type": "markdown",
   "metadata": {
    "id": "85lcMLMH7vsk"
   },
   "source": [
    "## Part 2"
   ]
  },
  {
   "cell_type": "markdown",
   "metadata": {
    "id": "DIg5al387vsl"
   },
   "source": [
    "In this part, you will evaluate your deep learning models on a test data. For this part, you will need to do the following:\n",
    "\n",
    "1. Load your saved model that was built using the ResNet50 model. \n",
    "2. Construct an ImageDataGenerator for the test set. For this ImageDataGenerator instance, you only need to pass the directory of the test images, target size, and the **shuffle** parameter and set it to False.\n",
    "3. Use the **evaluate_generator** method to evaluate your models on the test data, by passing the above ImageDataGenerator as an argument. You can learn more about **evaluate_generator** [here](https://keras.io/models/sequential/).\n",
    "4. Print the performance of the classifier using the VGG16 pre-trained model.\n",
    "5. Print the performance of the classifier using the ResNet pre-trained model.\n"
   ]
  },
  {
   "cell_type": "markdown",
   "metadata": {
    "id": "nyPLTCdq7vsl"
   },
   "source": [
    "Use the following cells to evaluate your models."
   ]
  },
  {
   "cell_type": "code",
   "execution_count": 12,
   "metadata": {
    "id": "_P8BHI3I7vsl"
   },
   "outputs": [],
   "source": [
    "model = tensorflow.keras.models.load_model('classifier_resnet_model.h5')"
   ]
  },
  {
   "cell_type": "code",
   "execution_count": 14,
   "metadata": {
    "colab": {
     "base_uri": "https://localhost:8080/"
    },
    "id": "RPwyR-q97vsm",
    "outputId": "1d412061-0f49-47e9-b43a-0e7413b77538"
   },
   "outputs": [
    {
     "name": "stdout",
     "output_type": "stream",
     "text": [
      "Found 500 images belonging to 2 classes.\n"
     ]
    }
   ],
   "source": [
    "evaluate_generator = data_generator.flow_from_directory(\n",
    "    'concrete_data_week4/test',\n",
    "    target_size=(image_resize, image_resize),\n",
    "    batch_size=batch_size_evaluate,\n",
    "    class_mode='categorical',\n",
    "    shuffle=False)"
   ]
  },
  {
   "cell_type": "code",
   "execution_count": 15,
   "metadata": {
    "colab": {
     "base_uri": "https://localhost:8080/"
    },
    "id": "wRS2rwo47vsm",
    "outputId": "8dde80f7-a432-40ad-e94e-3028d033b331"
   },
   "outputs": [
    {
     "name": "stdout",
     "output_type": "stream",
     "text": [
      "5/5 [==============================] - 13s 424ms/step - loss: 0.0214 - accuracy: 0.9980\n"
     ]
    },
    {
     "data": {
      "text/plain": [
       "[0.021352624520659447, 0.9980000257492065]"
      ]
     },
     "execution_count": 15,
     "metadata": {},
     "output_type": "execute_result"
    }
   ],
   "source": [
    "model.evaluate(evaluate_generator)"
   ]
  },
  {
   "cell_type": "code",
   "execution_count": 20,
   "metadata": {
    "id": "3vzZG65w7vsm"
   },
   "outputs": [],
   "source": [
    "model = tensorflow.keras.models.load_model('classifier_vgg16_model.h5')"
   ]
  },
  {
   "cell_type": "code",
   "execution_count": 21,
   "metadata": {
    "colab": {
     "base_uri": "https://localhost:8080/"
    },
    "id": "rAx3T8jfR8jH",
    "outputId": "e2aca736-88f0-4d03-9eb0-0df3f5cfd568"
   },
   "outputs": [
    {
     "name": "stdout",
     "output_type": "stream",
     "text": [
      "5/5 [==============================] - 10s 482ms/step - loss: 0.0196 - accuracy: 0.9980\n"
     ]
    },
    {
     "data": {
      "text/plain": [
       "[0.01959819160401821, 0.9980000257492065]"
      ]
     },
     "execution_count": 21,
     "metadata": {},
     "output_type": "execute_result"
    }
   ],
   "source": [
    "model.evaluate(evaluate_generator)"
   ]
  },
  {
   "cell_type": "markdown",
   "metadata": {
    "id": "h9ES6VtO7vsm"
   },
   "source": [
    "   "
   ]
  },
  {
   "cell_type": "markdown",
   "metadata": {
    "id": "OJk-MIW47vsm"
   },
   "source": [
    "<a id=\"item44\"></a>"
   ]
  },
  {
   "cell_type": "markdown",
   "metadata": {
    "id": "oE869Iii7vsm"
   },
   "source": [
    "## Part 3"
   ]
  },
  {
   "cell_type": "markdown",
   "metadata": {
    "id": "qZ88Ejwv7vsn"
   },
   "source": [
    "In this model, you will predict whether the images in the test data are images of cracked concrete or not. You will do the following:\n",
    "\n",
    "1. Use the **predict_generator** method to predict the class of the images in the test data, by passing the test data ImageDataGenerator instance defined in the previous part as an argument. You can learn more about the **predict_generator** method [here](https://keras.io/models/sequential/).\n",
    "2. Report the class predictions of the first five images in the test set. You should print something list this:\n",
    "\n",
    "<center>\n",
    "    <ul style=\"list-style-type:none\">\n",
    "        <li>Positive</li>  \n",
    "        <li>Negative</li> \n",
    "        <li>Positive</li>\n",
    "        <li>Positive</li>\n",
    "        <li>Negative</li>\n",
    "    </ul>\n",
    "</center>"
   ]
  },
  {
   "cell_type": "markdown",
   "metadata": {
    "id": "Ksmvol7V7vsn"
   },
   "source": [
    "Use the following cells to make your predictions."
   ]
  },
  {
   "cell_type": "code",
   "execution_count": 33,
   "metadata": {
    "id": "fvKG7ysg7vsn"
   },
   "outputs": [],
   "source": [
    "predict_set = evaluate_generator[0][0][:5]"
   ]
  },
  {
   "cell_type": "code",
   "execution_count": 73,
   "metadata": {
    "colab": {
     "base_uri": "https://localhost:8080/"
    },
    "id": "OuiBXOvx7vsn",
    "outputId": "e5c40463-7cca-48c7-9783-1795d35ac970"
   },
   "outputs": [
    {
     "name": "stdout",
     "output_type": "stream",
     "text": [
      "1/1 [==============================] - 0s 143ms/step\n"
     ]
    }
   ],
   "source": [
    "vgg16_prediction = model.predict(predict_set)"
   ]
  },
  {
   "cell_type": "code",
   "execution_count": 45,
   "metadata": {
    "colab": {
     "base_uri": "https://localhost:8080/"
    },
    "id": "Z1KcLGZp7vsn",
    "outputId": "c91d62f6-3407-4ad7-d6f4-25e1ee9ff924"
   },
   "outputs": [
    {
     "data": {
      "text/plain": [
       "array([[0.9961204 , 0.00387957],\n",
       "       [0.52443504, 0.47556493],\n",
       "       [0.98430955, 0.01569042],\n",
       "       [0.9927013 , 0.00729864],\n",
       "       [0.98474324, 0.01525674]], dtype=float32)"
      ]
     },
     "execution_count": 45,
     "metadata": {},
     "output_type": "execute_result"
    }
   ],
   "source": [
    "vgg16_prediction"
   ]
  },
  {
   "cell_type": "code",
   "execution_count": 46,
   "metadata": {
    "id": "TH4-mhuE7vsn"
   },
   "outputs": [],
   "source": [
    "classifications = ['Negative','Positive']"
   ]
  },
  {
   "cell_type": "code",
   "execution_count": 64,
   "metadata": {
    "colab": {
     "base_uri": "https://localhost:8080/"
    },
    "id": "g66GaKhwUftZ",
    "outputId": "e7f6cab8-2bf8-457e-e300-db51bf8a02da"
   },
   "outputs": [
    {
     "name": "stdout",
     "output_type": "stream",
     "text": [
      "VGG16 Predicitions:\n",
      "* Negative\n",
      "* Negative\n",
      "* Negative\n",
      "* Negative\n"
     ]
    }
   ],
   "source": [
    "print('VGG16 Predicitions:')\n",
    "for i in range(4):\n",
    "  print(\"*\",classifications[vgg16_prediction[i].argmax()])"
   ]
  },
  {
   "cell_type": "code",
   "execution_count": 66,
   "metadata": {
    "id": "Oug6PewkXIHu"
   },
   "outputs": [],
   "source": [
    "model = tensorflow.keras.models.load_model('classifier_resnet_model.h5')"
   ]
  },
  {
   "cell_type": "code",
   "execution_count": 68,
   "metadata": {
    "colab": {
     "base_uri": "https://localhost:8080/"
    },
    "id": "hmf5ptSWXaav",
    "outputId": "12941760-73b7-4877-bdf7-8e7b4a9630d4"
   },
   "outputs": [
    {
     "name": "stdout",
     "output_type": "stream",
     "text": [
      "1/1 [==============================] - 0s 31ms/step\n"
     ]
    }
   ],
   "source": [
    "resnet_prediction = model.predict(predict_set)"
   ]
  },
  {
   "cell_type": "code",
   "execution_count": 69,
   "metadata": {
    "colab": {
     "base_uri": "https://localhost:8080/"
    },
    "id": "o6800iKMXfTM",
    "outputId": "9b793d0d-2f33-46cb-8eea-456db052f72f"
   },
   "outputs": [
    {
     "data": {
      "text/plain": [
       "array([[0.99603397, 0.00396605],\n",
       "       [0.8421558 , 0.1578442 ],\n",
       "       [0.8483774 , 0.15162256],\n",
       "       [0.97130007, 0.02869989],\n",
       "       [0.9885994 , 0.01140063]], dtype=float32)"
      ]
     },
     "execution_count": 69,
     "metadata": {},
     "output_type": "execute_result"
    }
   ],
   "source": [
    "resnet_prediction"
   ]
  },
  {
   "cell_type": "code",
   "execution_count": 70,
   "metadata": {
    "colab": {
     "base_uri": "https://localhost:8080/"
    },
    "id": "0O5dL5fmXuxt",
    "outputId": "16268486-bb40-4664-88e4-9e0dea39b091"
   },
   "outputs": [
    {
     "name": "stdout",
     "output_type": "stream",
     "text": [
      "RESNET Predicitions:\n",
      "* Negative\n",
      "* Negative\n",
      "* Negative\n",
      "* Negative\n"
     ]
    }
   ],
   "source": [
    "print('RESNET Predicitions:')\n",
    "for i in range(4):\n",
    "  print(\"*\",classifications[resnet_prediction[i].argmax()])"
   ]
  },
  {
   "cell_type": "code",
   "execution_count": 71,
   "metadata": {
    "id": "0qtp0dCNYIUM"
   },
   "outputs": [],
   "source": [
    "model = tensorflow.keras.models.load_model('classifier_vgg16_model.h5')"
   ]
  },
  {
   "cell_type": "code",
   "execution_count": 72,
   "metadata": {
    "colab": {
     "base_uri": "https://localhost:8080/"
    },
    "id": "F3DwrEjfYQXf",
    "outputId": "72b84932-3542-4755-e0ca-0305c5eb5ca8"
   },
   "outputs": [
    {
     "name": "stdout",
     "output_type": "stream",
     "text": [
      "Model: \"sequential\"\n",
      "_________________________________________________________________\n",
      " Layer (type)                Output Shape              Param #   \n",
      "=================================================================\n",
      " vgg16 (Functional)          (None, 512)               14714688  \n",
      "                                                                 \n",
      " dense (Dense)               (None, 2)                 1026      \n",
      "                                                                 \n",
      "=================================================================\n",
      "Total params: 14,715,714\n",
      "Trainable params: 1,026\n",
      "Non-trainable params: 14,714,688\n",
      "_________________________________________________________________\n"
     ]
    }
   ],
   "source": [
    "model.summary()"
   ]
  },
  {
   "cell_type": "markdown",
   "metadata": {
    "id": "wznHBeyy7vso"
   },
   "source": [
    "  "
   ]
  },
  {
   "cell_type": "markdown",
   "metadata": {
    "button": false,
    "id": "knR8qHSt7vso",
    "new_sheet": false,
    "run_control": {
     "read_only": false
    }
   },
   "source": [
    "### Thank you for completing this lab!\n",
    "\n",
    "This notebook was created by Alex Aklson."
   ]
  },
  {
   "cell_type": "markdown",
   "metadata": {
    "button": false,
    "id": "4piyvle17vso",
    "new_sheet": false,
    "run_control": {
     "read_only": false
    }
   },
   "source": [
    "This notebook is part of a course on **Coursera** called *AI Capstone Project with Deep Learning*. If you accessed this notebook outside the course, you can take this course online by clicking [here](https://cocl.us/DL0321EN_Coursera_Week4_LAB1)."
   ]
  },
  {
   "cell_type": "markdown",
   "metadata": {
    "button": false,
    "id": "OHVYdEtZ7vso",
    "new_sheet": false,
    "run_control": {
     "read_only": false
    }
   },
   "source": [
    "<hr>\n",
    "\n",
    "Copyright &copy; 2020 [IBM Developer Skills Network](https://cognitiveclass.ai/?utm_source=bducopyrightlink&utm_medium=dswb&utm_campaign=bdu). This notebook and its source code are released under the terms of the [MIT License](https://bigdatauniversity.com/mit-license/)."
   ]
  }
 ],
 "metadata": {
  "accelerator": "GPU",
  "colab": {
   "provenance": []
  },
  "gpuClass": "standard",
  "kernelspec": {
   "display_name": "Python 3 (ipykernel)",
   "language": "python",
   "name": "python3"
  },
  "language_info": {
   "codemirror_mode": {
    "name": "ipython",
    "version": 3
   },
   "file_extension": ".py",
   "mimetype": "text/x-python",
   "name": "python",
   "nbconvert_exporter": "python",
   "pygments_lexer": "ipython3",
   "version": "3.11.0"
  }
 },
 "nbformat": 4,
 "nbformat_minor": 1
}
